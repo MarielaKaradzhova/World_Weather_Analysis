{
 "cells": [
  {
   "cell_type": "markdown",
   "metadata": {},
   "source": [
    "## Deliverable 2. Create a Customer Travel Destinations Map."
   ]
  },
  {
   "cell_type": "code",
   "execution_count": 1,
   "metadata": {},
   "outputs": [],
   "source": [
    "# Dependencies and Setup\n",
    "import pandas as pd\n",
    "import requests\n",
    "import gmaps\n",
    "\n",
    "# Import API key\n",
    "from config import g_key\n",
    "\n",
    "# Configure gmaps API key\n",
    "gmaps.configure(api_key=g_key)"
   ]
  },
  {
   "cell_type": "code",
   "execution_count": 2,
   "metadata": {},
   "outputs": [
    {
     "output_type": "execute_result",
     "data": {
      "text/plain": [
       "           City      Lat       Lng  Max Temp  Humidity  Cloudiness  \\\n",
       "0  richards bay -28.7830   32.0377     16.14        80           1   \n",
       "1    turukhansk  65.8167   87.9833      3.03        95         100   \n",
       "2     bathsheba  13.2167  -59.5167     30.34        54          40   \n",
       "3        tiznit  29.5833   -9.5000     19.96        55          92   \n",
       "4          fare -16.7000 -151.0167     27.00        71          91   \n",
       "\n",
       "   Wind Speed Weather Description  \n",
       "0        2.87           clear sky  \n",
       "1        4.53     overcast clouds  \n",
       "2        6.00    scattered clouds  \n",
       "3        2.97     overcast clouds  \n",
       "4        6.32     overcast clouds  "
      ],
      "text/html": "<div>\n<style scoped>\n    .dataframe tbody tr th:only-of-type {\n        vertical-align: middle;\n    }\n\n    .dataframe tbody tr th {\n        vertical-align: top;\n    }\n\n    .dataframe thead th {\n        text-align: right;\n    }\n</style>\n<table border=\"1\" class=\"dataframe\">\n  <thead>\n    <tr style=\"text-align: right;\">\n      <th></th>\n      <th>City</th>\n      <th>Lat</th>\n      <th>Lng</th>\n      <th>Max Temp</th>\n      <th>Humidity</th>\n      <th>Cloudiness</th>\n      <th>Wind Speed</th>\n      <th>Weather Description</th>\n    </tr>\n  </thead>\n  <tbody>\n    <tr>\n      <th>0</th>\n      <td>richards bay</td>\n      <td>-28.7830</td>\n      <td>32.0377</td>\n      <td>16.14</td>\n      <td>80</td>\n      <td>1</td>\n      <td>2.87</td>\n      <td>clear sky</td>\n    </tr>\n    <tr>\n      <th>1</th>\n      <td>turukhansk</td>\n      <td>65.8167</td>\n      <td>87.9833</td>\n      <td>3.03</td>\n      <td>95</td>\n      <td>100</td>\n      <td>4.53</td>\n      <td>overcast clouds</td>\n    </tr>\n    <tr>\n      <th>2</th>\n      <td>bathsheba</td>\n      <td>13.2167</td>\n      <td>-59.5167</td>\n      <td>30.34</td>\n      <td>54</td>\n      <td>40</td>\n      <td>6.00</td>\n      <td>scattered clouds</td>\n    </tr>\n    <tr>\n      <th>3</th>\n      <td>tiznit</td>\n      <td>29.5833</td>\n      <td>-9.5000</td>\n      <td>19.96</td>\n      <td>55</td>\n      <td>92</td>\n      <td>2.97</td>\n      <td>overcast clouds</td>\n    </tr>\n    <tr>\n      <th>4</th>\n      <td>fare</td>\n      <td>-16.7000</td>\n      <td>-151.0167</td>\n      <td>27.00</td>\n      <td>71</td>\n      <td>91</td>\n      <td>6.32</td>\n      <td>overcast clouds</td>\n    </tr>\n  </tbody>\n</table>\n</div>"
     },
     "metadata": {},
     "execution_count": 2
    }
   ],
   "source": [
    "# 1. Import the WeatherPy_database.csv file. \n",
    "city_data_df = pd.read_csv(\"../Weather_Database/City_Dataframe.csv\")\n",
    "city_data_df.head()"
   ]
  },
  {
   "cell_type": "code",
   "execution_count": 3,
   "metadata": {},
   "outputs": [],
   "source": [
    "# 2. Prompt the user to enter minimum and maximum temperature criteria \n",
    "min_temp=float(input(\"What is the minimum temperature that you prefer for your vacation?\"))\n",
    "max_temp=float(input(\"What is the maximum temperature that you prefer for your vacation?\"))"
   ]
  },
  {
   "cell_type": "code",
   "execution_count": 4,
   "metadata": {},
   "outputs": [
    {
     "output_type": "execute_result",
     "data": {
      "text/plain": [
       "             City      Lat       Lng  Max Temp  Humidity  Cloudiness  \\\n",
       "0    richards bay -28.7830   32.0377     16.14        80           1   \n",
       "2       bathsheba  13.2167  -59.5167     30.34        54          40   \n",
       "3          tiznit  29.5833   -9.5000     19.96        55          92   \n",
       "4            fare -16.7000 -151.0167     27.00        71          91   \n",
       "5          albany  42.6001  -73.9662     26.26        53         100   \n",
       "..            ...      ...       ...       ...       ...         ...   \n",
       "682       rawlins  41.7911 -107.2387     22.94        23           1   \n",
       "683         seoul  37.5683  126.9778     18.69        71         100   \n",
       "684   tallahassee  30.4383  -84.2807     32.70        41         100   \n",
       "685     narsingdi  23.9208   90.7181     29.01        88          68   \n",
       "686        kachug  53.9606  105.8817     10.45        71          10   \n",
       "\n",
       "     Wind Speed Weather Description  \n",
       "0          2.87           clear sky  \n",
       "2          6.00    scattered clouds  \n",
       "3          2.97     overcast clouds  \n",
       "4          6.32     overcast clouds  \n",
       "5          2.19     overcast clouds  \n",
       "..          ...                 ...  \n",
       "682        3.60           clear sky  \n",
       "683        0.54          light rain  \n",
       "684        0.45     overcast clouds  \n",
       "685        2.87       broken clouds  \n",
       "686        1.37           clear sky  \n",
       "\n",
       "[588 rows x 8 columns]"
      ],
      "text/html": "<div>\n<style scoped>\n    .dataframe tbody tr th:only-of-type {\n        vertical-align: middle;\n    }\n\n    .dataframe tbody tr th {\n        vertical-align: top;\n    }\n\n    .dataframe thead th {\n        text-align: right;\n    }\n</style>\n<table border=\"1\" class=\"dataframe\">\n  <thead>\n    <tr style=\"text-align: right;\">\n      <th></th>\n      <th>City</th>\n      <th>Lat</th>\n      <th>Lng</th>\n      <th>Max Temp</th>\n      <th>Humidity</th>\n      <th>Cloudiness</th>\n      <th>Wind Speed</th>\n      <th>Weather Description</th>\n    </tr>\n  </thead>\n  <tbody>\n    <tr>\n      <th>0</th>\n      <td>richards bay</td>\n      <td>-28.7830</td>\n      <td>32.0377</td>\n      <td>16.14</td>\n      <td>80</td>\n      <td>1</td>\n      <td>2.87</td>\n      <td>clear sky</td>\n    </tr>\n    <tr>\n      <th>2</th>\n      <td>bathsheba</td>\n      <td>13.2167</td>\n      <td>-59.5167</td>\n      <td>30.34</td>\n      <td>54</td>\n      <td>40</td>\n      <td>6.00</td>\n      <td>scattered clouds</td>\n    </tr>\n    <tr>\n      <th>3</th>\n      <td>tiznit</td>\n      <td>29.5833</td>\n      <td>-9.5000</td>\n      <td>19.96</td>\n      <td>55</td>\n      <td>92</td>\n      <td>2.97</td>\n      <td>overcast clouds</td>\n    </tr>\n    <tr>\n      <th>4</th>\n      <td>fare</td>\n      <td>-16.7000</td>\n      <td>-151.0167</td>\n      <td>27.00</td>\n      <td>71</td>\n      <td>91</td>\n      <td>6.32</td>\n      <td>overcast clouds</td>\n    </tr>\n    <tr>\n      <th>5</th>\n      <td>albany</td>\n      <td>42.6001</td>\n      <td>-73.9662</td>\n      <td>26.26</td>\n      <td>53</td>\n      <td>100</td>\n      <td>2.19</td>\n      <td>overcast clouds</td>\n    </tr>\n    <tr>\n      <th>...</th>\n      <td>...</td>\n      <td>...</td>\n      <td>...</td>\n      <td>...</td>\n      <td>...</td>\n      <td>...</td>\n      <td>...</td>\n      <td>...</td>\n    </tr>\n    <tr>\n      <th>682</th>\n      <td>rawlins</td>\n      <td>41.7911</td>\n      <td>-107.2387</td>\n      <td>22.94</td>\n      <td>23</td>\n      <td>1</td>\n      <td>3.60</td>\n      <td>clear sky</td>\n    </tr>\n    <tr>\n      <th>683</th>\n      <td>seoul</td>\n      <td>37.5683</td>\n      <td>126.9778</td>\n      <td>18.69</td>\n      <td>71</td>\n      <td>100</td>\n      <td>0.54</td>\n      <td>light rain</td>\n    </tr>\n    <tr>\n      <th>684</th>\n      <td>tallahassee</td>\n      <td>30.4383</td>\n      <td>-84.2807</td>\n      <td>32.70</td>\n      <td>41</td>\n      <td>100</td>\n      <td>0.45</td>\n      <td>overcast clouds</td>\n    </tr>\n    <tr>\n      <th>685</th>\n      <td>narsingdi</td>\n      <td>23.9208</td>\n      <td>90.7181</td>\n      <td>29.01</td>\n      <td>88</td>\n      <td>68</td>\n      <td>2.87</td>\n      <td>broken clouds</td>\n    </tr>\n    <tr>\n      <th>686</th>\n      <td>kachug</td>\n      <td>53.9606</td>\n      <td>105.8817</td>\n      <td>10.45</td>\n      <td>71</td>\n      <td>10</td>\n      <td>1.37</td>\n      <td>clear sky</td>\n    </tr>\n  </tbody>\n</table>\n<p>588 rows × 8 columns</p>\n</div>"
     },
     "metadata": {},
     "execution_count": 4
    }
   ],
   "source": [
    "# 3. Filter the city_data_df DataFrame using the input statements to create a new DataFrame using the loc method.\n",
    "pref_df=city_data_df.loc[(city_data_df['Max Temp']>min_temp)&(city_data_df['Max Temp']<max_temp)]\n",
    "pref_df"
   ]
  },
  {
   "cell_type": "code",
   "execution_count": 5,
   "metadata": {},
   "outputs": [
    {
     "output_type": "execute_result",
     "data": {
      "text/plain": [
       "City                   0\n",
       "Lat                    0\n",
       "Lng                    0\n",
       "Max Temp               0\n",
       "Humidity               0\n",
       "Cloudiness             0\n",
       "Wind Speed             0\n",
       "Weather Description    0\n",
       "dtype: int64"
      ]
     },
     "metadata": {},
     "execution_count": 5
    }
   ],
   "source": [
    "# 4a. Determine if there are any empty rows.\n",
    "pref_df.isnull().sum()"
   ]
  },
  {
   "cell_type": "code",
   "execution_count": 6,
   "metadata": {},
   "outputs": [],
   "source": [
    "# 4b. Drop any empty rows and create a new DataFrame that doesn’t have empty rows.\n",
    "#no null values, skip."
   ]
  },
  {
   "cell_type": "code",
   "execution_count": 7,
   "metadata": {},
   "outputs": [
    {
     "output_type": "execute_result",
     "data": {
      "text/plain": [
       "            City  Max Temp Weather Description      Lat       Lng Hotel Name\n",
       "0   richards bay     16.14           clear sky -28.7830   32.0377           \n",
       "2      bathsheba     30.34    scattered clouds  13.2167  -59.5167           \n",
       "3         tiznit     19.96     overcast clouds  29.5833   -9.5000           \n",
       "4           fare     27.00     overcast clouds -16.7000 -151.0167           \n",
       "5         albany     26.26     overcast clouds  42.6001  -73.9662           \n",
       "6        birjand     29.26          few clouds  32.8663   59.2211           \n",
       "7            ler     27.76     overcast clouds   8.3018   30.1418           \n",
       "8       hermanus     17.72    scattered clouds -34.4187   19.2345           \n",
       "9   puerto ayora     26.98     overcast clouds  -0.7393  -90.3518           \n",
       "10   new norfolk     11.07     overcast clouds -42.7826  147.0587           "
      ],
      "text/html": "<div>\n<style scoped>\n    .dataframe tbody tr th:only-of-type {\n        vertical-align: middle;\n    }\n\n    .dataframe tbody tr th {\n        vertical-align: top;\n    }\n\n    .dataframe thead th {\n        text-align: right;\n    }\n</style>\n<table border=\"1\" class=\"dataframe\">\n  <thead>\n    <tr style=\"text-align: right;\">\n      <th></th>\n      <th>City</th>\n      <th>Max Temp</th>\n      <th>Weather Description</th>\n      <th>Lat</th>\n      <th>Lng</th>\n      <th>Hotel Name</th>\n    </tr>\n  </thead>\n  <tbody>\n    <tr>\n      <th>0</th>\n      <td>richards bay</td>\n      <td>16.14</td>\n      <td>clear sky</td>\n      <td>-28.7830</td>\n      <td>32.0377</td>\n      <td></td>\n    </tr>\n    <tr>\n      <th>2</th>\n      <td>bathsheba</td>\n      <td>30.34</td>\n      <td>scattered clouds</td>\n      <td>13.2167</td>\n      <td>-59.5167</td>\n      <td></td>\n    </tr>\n    <tr>\n      <th>3</th>\n      <td>tiznit</td>\n      <td>19.96</td>\n      <td>overcast clouds</td>\n      <td>29.5833</td>\n      <td>-9.5000</td>\n      <td></td>\n    </tr>\n    <tr>\n      <th>4</th>\n      <td>fare</td>\n      <td>27.00</td>\n      <td>overcast clouds</td>\n      <td>-16.7000</td>\n      <td>-151.0167</td>\n      <td></td>\n    </tr>\n    <tr>\n      <th>5</th>\n      <td>albany</td>\n      <td>26.26</td>\n      <td>overcast clouds</td>\n      <td>42.6001</td>\n      <td>-73.9662</td>\n      <td></td>\n    </tr>\n    <tr>\n      <th>6</th>\n      <td>birjand</td>\n      <td>29.26</td>\n      <td>few clouds</td>\n      <td>32.8663</td>\n      <td>59.2211</td>\n      <td></td>\n    </tr>\n    <tr>\n      <th>7</th>\n      <td>ler</td>\n      <td>27.76</td>\n      <td>overcast clouds</td>\n      <td>8.3018</td>\n      <td>30.1418</td>\n      <td></td>\n    </tr>\n    <tr>\n      <th>8</th>\n      <td>hermanus</td>\n      <td>17.72</td>\n      <td>scattered clouds</td>\n      <td>-34.4187</td>\n      <td>19.2345</td>\n      <td></td>\n    </tr>\n    <tr>\n      <th>9</th>\n      <td>puerto ayora</td>\n      <td>26.98</td>\n      <td>overcast clouds</td>\n      <td>-0.7393</td>\n      <td>-90.3518</td>\n      <td></td>\n    </tr>\n    <tr>\n      <th>10</th>\n      <td>new norfolk</td>\n      <td>11.07</td>\n      <td>overcast clouds</td>\n      <td>-42.7826</td>\n      <td>147.0587</td>\n      <td></td>\n    </tr>\n  </tbody>\n</table>\n</div>"
     },
     "metadata": {},
     "execution_count": 7
    }
   ],
   "source": [
    "# 5a. Create DataFrame called hotel_df to store hotel names along with city, country, max temp, and coordinates.\n",
    "hotel_df = pref_df[[\"City\", \"Max Temp\", \"Weather Description\", \"Lat\", \"Lng\"]].copy()\n",
    "\n",
    "# 5b. Create a new column \"Hotel Name\"\n",
    "hotel_df[\"Hotel Name\"] = \"\"\n",
    "hotel_df.head(10)"
   ]
  },
  {
   "cell_type": "code",
   "execution_count": 8,
   "metadata": {
    "tags": [
     "outputPrepend"
    ]
   },
   "outputs": [
    {
     "output_type": "stream",
     "name": "stdout",
     "text": [
      ".2767010197085}, 'southwest': {'lat': 30.4339436197085, 'lng': -84.2793989802915}}}, 'icon': 'https://maps.gstatic.com/mapfiles/place_api/icons/v1/png_71/lodging-71.png', 'name': 'AC Hotel by Marriott Tallahassee Universities at the Capitol', 'photos': [{'height': 1366, 'html_attributions': ['<a href=\"https://maps.google.com/maps/contrib/114900133932206817559\">AC Hotel by Marriott Tallahassee Universities at the Capitol</a>'], 'photo_reference': 'ATtYBwJAMRkEYRfrnbh5Wrj2m3GhK_9S5FEGYZyURDhryM7bc4E2rFwIOUaUPujmEYQLwDl-aWFWDCnot7nDpanIXTcfp8wTNUPcioFvaA00MxWLFrmflgnylsq9Igbu5AOSPOmRJT5etoDuCAjYhY3gdhpfGR_oNSjKzvucx3EA5XJVm9Sx', 'width': 2048}], 'place_id': 'ChIJq-hrHGX17IgR7-2SMcWzVe0', 'plus_code': {'compound_code': 'CPPC+4Q Tallahassee, FL, USA', 'global_code': '862QCPPC+4Q'}, 'rating': 3, 'reference': 'ChIJq-hrHGX17IgR7-2SMcWzVe0', 'scope': 'GOOGLE', 'types': ['lodging', 'point_of_interest', 'establishment'], 'user_ratings_total': 2, 'vicinity': '801 South Gadsden Street, Tallahassee'}, {'business_status': 'OPERATIONAL', 'geometry': {'location': {'lat': 30.4416693, 'lng': -84.2847839}, 'viewport': {'northeast': {'lat': 30.44310373029149, 'lng': -84.28343596970849}, 'southwest': {'lat': 30.44040576970849, 'lng': -84.28613393029151}}}, 'icon': 'https://maps.gstatic.com/mapfiles/place_api/icons/v1/png_71/lodging-71.png', 'name': 'Anel Herra', 'place_id': 'ChIJGf7ntjb17IgRnvTYlH4Yygs', 'plus_code': {'compound_code': 'CPR8+M3 Tallahassee, FL, USA', 'global_code': '862QCPR8+M3'}, 'rating': 2, 'reference': 'ChIJGf7ntjb17IgRnvTYlH4Yygs', 'scope': 'GOOGLE', 'types': ['lodging', 'point_of_interest', 'establishment'], 'user_ratings_total': 1, 'vicinity': '307 West Park Avenue, Tallahassee'}, {'business_status': 'OPERATIONAL', 'geometry': {'location': {'lat': 30.43506459999999, 'lng': -84.2874398}, 'viewport': {'northeast': {'lat': 30.4364139802915, 'lng': -84.2860020197085}, 'southwest': {'lat': 30.4337160197085, 'lng': -84.28869998029151}}}, 'icon': 'https://maps.gstatic.com/mapfiles/place_api/icons/v1/png_71/lodging-71.png', 'name': 'Michael', 'place_id': 'ChIJH7CJiVD17IgR3bXDZuC2RpI', 'plus_code': {'compound_code': 'CPP7+22 Tallahassee, FL, USA', 'global_code': '862QCPP7+22'}, 'reference': 'ChIJH7CJiVD17IgR3bXDZuC2RpI', 'scope': 'GOOGLE', 'types': ['lodging', 'point_of_interest', 'establishment'], 'vicinity': '808 Saint Michael Street, Tallahassee'}], 'status': 'OK'}\n",
      "{'html_attributions': [], 'next_page_token': 'ATtYBwJ_9G47kae6N4pdDpdUvOD4EMdrFgMq9ZsOXNup4QcHRutr3KsjsQ8n76YsmkNcC0O41z-L5GYwbQ4MSRsPcKunke3IFxEoVHPMoHvEOvgmMa1fEJ3Hzf4gDwc5tyhLuqfYXTlDrY4xLJYEZZthTaFRpjOIBV5tgIGIHeEdn8YMXNunUqGIQK38jaOYge1Td7eMrSinrygk3nHs3PywZcXAklNLw76olRrcVN6s9uayrMRL7LkgAvMER5v9wzV3-Pu6UmlGzXIn2hStLdK7Je5IOMMMEU0Uph1vFw1JIOrzJLRz6Z9l5OBCt5yLVjWBsKQtaAZFe6LoUaXv6366WC3CHNFUF52NZDPt1jOTimz832eCVfJXtDh8b3zWy8kBf5jQKz0exF2HSK3QpcJnT-paZOMysZSMhbCdrbv-4Bh58vITrtJ8bqIk', 'results': [{'business_status': 'OPERATIONAL', 'geometry': {'location': {'lat': 23.9225188, 'lng': 90.69836579999999}, 'viewport': {'northeast': {'lat': 23.9240209802915, 'lng': 90.6995209802915}, 'southwest': {'lat': 23.9213230197085, 'lng': 90.69682301970849}}}, 'icon': 'https://maps.gstatic.com/mapfiles/place_api/icons/v1/png_71/lodging-71.png', 'name': 'Abdul Kadir Mollah City College Boys Hostel', 'opening_hours': {'open_now': False}, 'photos': [{'height': 401, 'html_attributions': ['<a href=\"https://maps.google.com/maps/contrib/108118155021650005979\">Md Rakibul Hasan Lincoln</a>'], 'photo_reference': 'ATtYBwKwk_R6aGa1eaaiBsqNL00A9kJiEITSJg87MaRo4awOhtaLwGALARTHq_Y6Z-ext8RMCxcpOh0ZBmX35sVvUBsVG3Nr8aZJIpnUArJw9Am6pxzm3uBhcJE2xAdNz2GVf8LvaT-2wvYvrFQid1zr4T1YmgGew-DBRm2bI2sX-CyaCQ8-', 'width': 600}], 'place_id': 'ChIJE-p0gb4xVDcR84CnzJphvD4', 'plus_code': {'compound_code': 'WMFX+28 Narsingdi, Bangladesh', 'global_code': '7MMGWMFX+28'}, 'rating': 4.3, 'reference': 'ChIJE-p0gb4xVDcR84CnzJphvD4', 'scope': 'GOOGLE', 'types': ['lodging', 'point_of_interest', 'establishment'], 'user_ratings_total': 161, 'vicinity': 'Dhaka - Sylhet Highway'}, {'business_status': 'OPERATIONAL', 'geometry': {'location': {'lat': 23.9331196, 'lng': 90.7331203}, 'viewport': {'northeast': {'lat': 23.9344871302915, 'lng': 90.7344775302915}, 'southwest': {'lat': 23.9317891697085, 'lng': 90.7317795697085}}}, 'icon': 'https://maps.gstatic.com/mapfiles/place_api/icons/v1/png_71/lodging-71.png', 'name': 'Julhas Tower', 'opening_hours': {'open_now': False}, 'photos': [{'height': 3456, 'html_attributions': ['<a href=\"https://maps.google.com/maps/contrib/102078045325696027014\">নিরব মুসলমান Stillness Muslim</a>'], 'photo_reference': 'ATtYBwJiyUyu40Ihe2Lx_JkFCgSyd2T_9NgW4Fn_nEFS1WWiKgujHe4ryFcJogAqCjaErz2kkwWUAwHARBzyQ4gFmnuEkPCRaAMzIkUy9AHS3YAD_EKo4D-1hrgI08NgrPXvEIhF9du40Gl0xyu9LZS5Tv61Zojh4-l-REzgC7sFSdRb2Pfz', 'width': 4608}], 'place_id': 'ChIJa5AoEz4wVDcRNHZAz260sac', 'plus_code': {'compound_code': 'WPMM+66 Brahmondi, Bangladesh', 'global_code': '7MMGWPMM+66'}, 'rating': 3.6, 'reference': 'ChIJa5AoEz4wVDcRNHZAz260sac', 'scope': 'GOOGLE', 'types': ['lodging', 'point_of_interest', 'establishment'], 'user_ratings_total': 26, 'vicinity': 'Gabtoli Madrasah Road, Narsingdi'}, {'business_status': 'OPERATIONAL', 'geometry': {'location': {'lat': 23.9205118, 'lng': 90.7185842}, 'viewport': {'northeast': {'lat': 23.9219042802915, 'lng': 90.7198983302915}, 'southwest': {'lat': 23.9192063197085, 'lng': 90.7172003697085}}}, 'icon': 'https://maps.gstatic.com/mapfiles/place_api/icons/v1/png_71/lodging-71.png', 'name': 'Hotel Nirapada', 'place_id': 'ChIJM8hvQUwwVDcRw4yzyhoYv0Q', 'plus_code': {'compound_code': 'WPC9+6C Narsingdi, Bangladesh', 'global_code': '7MMGWPC9+6C'}, 'rating': 2.1, 'reference': 'ChIJM8hvQUwwVDcRw4yzyhoYv0Q', 'scope': 'GOOGLE', 'types': ['lodging', 'point_of_interest', 'establishment'], 'user_ratings_total': 7, 'vicinity': 'Bus Station, 3rd Floor, Al-Arafat Building, Beside Of Narsingdi Temple Narsingdi - Raipur Highway, Road, Old'}, {'business_status': 'OPERATIONAL', 'geometry': {'location': {'lat': 23.9201017, 'lng': 90.7184997}, 'viewport': {'northeast': {'lat': 23.9216091802915, 'lng': 90.7197216302915}, 'southwest': {'lat': 23.9189112197085, 'lng': 90.71702366970848}}}, 'icon': 'https://maps.gstatic.com/mapfiles/place_api/icons/v1/png_71/lodging-71.png', 'name': 'Abu Omar trading corporation', 'place_id': 'ChIJg7XRWyYxVDcRkWjkrijpXug', 'plus_code': {'compound_code': 'WPC9+29 Narsingdi, Bangladesh', 'global_code': '7MMGWPC9+29'}, 'reference': 'ChIJg7XRWyYxVDcRkWjkrijpXug', 'scope': 'GOOGLE', 'types': ['lodging', 'point_of_interest', 'establishment'], 'vicinity': 'নরসিংদী সদর থানা, 8/1 Lake City, Sadar Hospital Road'}, {'business_status': 'OPERATIONAL', 'geometry': {'location': {'lat': 23.9202311, 'lng': 90.7190942}, 'viewport': {'northeast': {'lat': 23.92158583029151, 'lng': 90.7204882302915}, 'southwest': {'lat': 23.9188878697085, 'lng': 90.71779026970849}}}, 'icon': 'https://maps.gstatic.com/mapfiles/place_api/icons/v1/png_71/lodging-71.png', 'name': 'অরূপ শিল্পালয়', 'photos': [{'height': 3264, 'html_attributions': ['<a href=\"https://maps.google.com/maps/contrib/107201448018813509485\">Amor Biswas</a>'], 'photo_reference': 'ATtYBwJ_3OoM4_IEJFNMyGXEyvKnB7JmB50Z5Xb3gHxRtUuuziwAZ_lDF5Vk_qPVzmY-BFT0JfA-nUDFK0gp-MwU870ThiQTqzmaZ-zlkWTsCi5S3Ylw57eq2nlKPbcK1zNk30nuPINmyAchXD10IBa720zXftrHI-QgyR07mI5e6Gatzc2R', 'width': 2448}], 'place_id': 'ChIJpfJPGk4xVDcRAzs9pa7g-CA', 'plus_code': {'compound_code': 'WPC9+3J Narsingdi, Bangladesh', 'global_code': '7MMGWPC9+3J'}, 'reference': 'ChIJpfJPGk4xVDcRAzs9pa7g-CA', 'scope': 'GOOGLE', 'types': ['lodging', 'point_of_interest', 'establishment'], 'vicinity': 'Unnamed Road, Narsingdi'}, {'business_status': 'OPERATIONAL', 'geometry': {'location': {'lat': 23.919966, 'lng': 90.7173038}, 'viewport': {'northeast': {'lat': 23.9212820802915, 'lng': 90.7186799802915}, 'southwest': {'lat': 23.91858411970849, 'lng': 90.71598201970849}}}, 'icon': 'https://maps.gstatic.com/mapfiles/place_api/icons/v1/png_71/lodging-71.png', 'name': 'AJR Courier', 'photos': [{'height': 3024, 'html_attributions': ['<a href=\"https://maps.google.com/maps/contrib/101984096637367322717\">Noormohammad Bhuayan</a>'], 'photo_reference': 'ATtYBwJ2vbVT5XyNMT2r1PM1N82ffmUjxPpsz98h3Mr0U8ZCxL8Lkm1h-wGg_9LgE5rArUOKs7-uvBHNENMZ9JDLL2Tb9LpDGZODZ6u-Jzg2tkBeIU18pzBXRSvQX6T8qs9Vgoq_zuf2u6ZirUGywheaRk2G2KjEa2qIMhmn0SP7tI5pjn_F', 'width': 4032}], 'place_id': 'ChIJe9tmIr4xVDcRV5BNd5TZuc4', 'plus_code': {'compound_code': 'WP98+XW Narsingdi, Bangladesh', 'global_code': '7MMGWP98+XW'}, 'rating': 2.7, 'reference': 'ChIJe9tmIr4xVDcRV5BNd5TZuc4', 'scope': 'GOOGLE', 'types': ['lodging', 'point_of_interest', 'establishment'], 'user_ratings_total': 3, 'vicinity': 'Kauriapara, Narsingdi'}, {'business_status': 'OPERATIONAL', 'geometry': {'location': {'lat': 23.9192671, 'lng': 90.7176492}, 'viewport': {'northeast': {'lat': 23.9206269302915, 'lng': 90.71890558029149}, 'southwest': {'lat': 23.9179289697085, 'lng': 90.71620761970848}}}, 'icon': 'https://maps.gstatic.com/mapfiles/place_api/icons/v1/png_71/lodging-71.png', 'name': 'Selfemployed', 'place_id': 'ChIJQ45C5isxVDcRNZZQIFpwYSA', 'plus_code': {'compound_code': 'WP99+P3 Narsingdi, Bangladesh', 'global_code': '7MMGWP99+P3'}, 'reference': 'ChIJQ45C5isxVDcRNZZQIFpwYSA', 'scope': 'GOOGLE', 'types': ['lodging', 'point_of_interest', 'establishment'], 'vicinity': 'Narsingdi Sadar Upazila, 2852/2west Narsingdi'}, {'business_status': 'OPERATIONAL', 'geometry': {'location': {'lat': 23.9192671, 'lng': 90.7176492}, 'viewport': {'northeast': {'lat': 23.9206269302915, 'lng': 90.71890558029149}, 'southwest': {'lat': 23.9179289697085, 'lng': 90.71620761970848}}}, 'icon': 'https://maps.gstatic.com/mapfiles/place_api/icons/v1/png_71/lodging-71.png', 'name': 'আমাদের নিবাস', 'place_id': 'ChIJJVcbKJ4xVDcRSKqk0y-RoyM', 'plus_code': {'compound_code': 'WP99+P3 Narsingdi, Bangladesh', 'global_code': '7MMGWP99+P3'}, 'reference': 'ChIJJVcbKJ4xVDcRSKqk0y-RoyM', 'scope': 'GOOGLE', 'types': ['lodging', 'point_of_interest', 'establishment'], 'vicinity': '29/1, নরসিংদী'}, {'business_status': 'OPERATIONAL', 'geometry': {'location': {'lat': 23.9192671, 'lng': 90.7176492}, 'viewport': {'northeast': {'lat': 23.9206269302915, 'lng': 90.71890558029149}, 'southwest': {'lat': 23.9179289697085, 'lng': 90.71620761970848}}}, 'icon': 'https://maps.gstatic.com/mapfiles/place_api/icons/v1/png_71/lodging-71.png', 'name': 'ডঃ মুজিবুর রহমান হাউস', 'place_id': 'ChIJWwfq9voxVDcRIE3e5CVKaPk', 'plus_code': {'compound_code': 'WP99+P3 Narsingdi, Bangladesh', 'global_code': '7MMGWP99+P3'}, 'reference': 'ChIJWwfq9voxVDcRIE3e5CVKaPk', 'scope': 'GOOGLE', 'types': ['lodging', 'point_of_interest', 'establishment'], 'vicinity': 'নরসিংদী সদর থানা, Narsingdi gajir goi'}, {'business_status': 'OPERATIONAL', 'geometry': {'location': {'lat': 23.9192671, 'lng': 90.7176492}, 'viewport': {'northeast': {'lat': 23.9206269302915, 'lng': 90.71890558029149}, 'southwest': {'lat': 23.9179289697085, 'lng': 90.71620761970848}}}, 'icon': 'https://maps.gstatic.com/mapfiles/place_api/icons/v1/png_71/lodging-71.png', 'name': \"Ahmed's Home\", 'place_id': 'ChIJ5ctp4n8xVDcR5gYPQkB9lhE', 'plus_code': {'compound_code': 'WP99+P3 Narsingdi, Bangladesh', 'global_code': '7MMGWP99+P3'}, 'rating': 5, 'reference': 'ChIJ5ctp4n8xVDcR5gYPQkB9lhE', 'scope': 'GOOGLE', 'types': ['lodging', 'point_of_interest', 'establishment'], 'user_ratings_total': 1, 'vicinity': 'ahmed ahmed, Narsingdi'}, {'business_status': 'OPERATIONAL', 'geometry': {'location': {'lat': 23.9192671, 'lng': 90.7176492}, 'viewport': {'northeast': {'lat': 23.9206269302915, 'lng': 90.71890558029149}, 'southwest': {'lat': 23.9179289697085, 'lng': 90.71620761970848}}}, 'icon': 'https://maps.gstatic.com/mapfiles/place_api/icons/v1/png_71/lodging-71.png', 'name': \"Juton's Home\", 'place_id': 'ChIJ5UCNkzoxVDcR4VgRYisK1EA', 'plus_code': {'compound_code': 'WP99+P3 Narsingdi, Bangladesh', 'global_code': '7MMGWP99+P3'}, 'reference': 'ChIJ5UCNkzoxVDcR4VgRYisK1EA', 'scope': 'GOOGLE', 'types': ['lodging', 'point_of_interest', 'establishment'], 'vicinity': 'road, Narsingdi'}, {'business_status': 'OPERATIONAL', 'geometry': {'location': {'lat': 23.9192671, 'lng': 90.7176492}, 'viewport': {'northeast': {'lat': 23.9206269302915, 'lng': 90.71890558029149}, 'southwest': {'lat': 23.9179289697085, 'lng': 90.71620761970848}}}, 'icon': 'https://maps.gstatic.com/mapfiles/place_api/icons/v1/png_71/lodging-71.png', 'name': \"Mamia's House\", 'place_id': 'ChIJ0z5XhAoxVDcRPWve171vijI', 'plus_code': {'compound_code': 'WP99+P3 Narsingdi, Bangladesh', 'global_code': '7MMGWP99+P3'}, 'reference': 'ChIJ0z5XhAoxVDcRPWve171vijI', 'scope': 'GOOGLE', 'types': ['lodging', 'point_of_interest', 'establishment'], 'vicinity': 'Sultanpur, Narsingdi'}, {'business_status': 'OPERATIONAL', 'geometry': {'location': {'lat': 23.9192671, 'lng': 90.7176492}, 'viewport': {'northeast': {'lat': 23.9206269302915, 'lng': 90.71890558029149}, 'southwest': {'lat': 23.9179289697085, 'lng': 90.71620761970848}}}, 'icon': 'https://maps.gstatic.com/mapfiles/place_api/icons/v1/png_71/generic_business-71.png', 'name': 'SOHAG MIAH', 'photos': [{'height': 720, 'html_attributions': ['<a href=\"https://maps.google.com/maps/contrib/100508600070721460585\">SOHAG MIAH</a>'], 'photo_reference': 'ATtYBwKz6B2GPJm7Uc_nsvXUGACnfrx4d7XbSDIEQmXaqQ1uyUnYJESGut4ctE8_8rw3lXs5_YR5oLp6QN9YwRJ6PZFSMhwv19VJQ0Ji0o9MwT8J3dwIDkMLPCW0wbh-MQ5lBcYIK9_YW5iVz8af7kBl3qHyki-eALyKnIDUq8xv4h4mPjJg', 'width': 960}], 'place_id': 'ChIJu2wn8KQ1VDcRYSWVnVs8UhA', 'plus_code': {'compound_code': 'WP99+P3 Narsingdi, Bangladesh', 'global_code': '7MMGWP99+P3'}, 'reference': 'ChIJu2wn8KQ1VDcRYSWVnVs8UhA', 'scope': 'GOOGLE', 'types': ['lodging', 'point_of_interest', 'establishment'], 'vicinity': 'Narsingdi'}, {'business_status': 'OPERATIONAL', 'geometry': {'location': {'lat': 23.9192671, 'lng': 90.7176492}, 'viewport': {'northeast': {'lat': 23.9206269302915, 'lng': 90.71890558029149}, 'southwest': {'lat': 23.9179289697085, 'lng': 90.71620761970848}}}, 'icon': 'https://maps.gstatic.com/mapfiles/place_api/icons/v1/png_71/lodging-71.png', 'name': 'Kaji Shiul', 'place_id': 'ChIJE7Q2R9UxVDcRm3wAxwpLgS8', 'plus_code': {'compound_code': 'WP99+P3 Narsingdi, Bangladesh', 'global_code': '7MMGWP99+P3'}, 'reference': 'ChIJE7Q2R9UxVDcRm3wAxwpLgS8', 'scope': 'GOOGLE', 'types': ['lodging', 'point_of_interest', 'establishment'], 'vicinity': 'Narsingdi'}, {'business_status': 'OPERATIONAL', 'geometry': {'location': {'lat': 23.9192671, 'lng': 90.7176492}, 'viewport': {'northeast': {'lat': 23.9206269302915, 'lng': 90.71890558029149}, 'southwest': {'lat': 23.9179289697085, 'lng': 90.71620761970848}}}, 'icon': 'https://maps.gstatic.com/mapfiles/place_api/icons/v1/png_71/lodging-71.png', 'name': 'জাকের পাটি ম্যংস জীবি ফন্ট নরসিংদী জেলা', 'place_id': 'ChIJbWCf_J0xVDcR6qj_pchJFlk', 'plus_code': {'compound_code': 'WP99+P3 Narsingdi, Bangladesh', 'global_code': '7MMGWP99+P3'}, 'reference': 'ChIJbWCf_J0xVDcR6qj_pchJFlk', 'scope': 'GOOGLE', 'types': ['lodging', 'point_of_interest', 'establishment'], 'vicinity': 'শাপলাচত্বর, Narsingdi'}, {'business_status': 'OPERATIONAL', 'geometry': {'location': {'lat': 23.9192671, 'lng': 90.7176492}, 'viewport': {'northeast': {'lat': 23.9206269302915, 'lng': 90.71890558029149}, 'southwest': {'lat': 23.9179289697085, 'lng': 90.71620761970848}}}, 'icon': 'https://maps.gstatic.com/mapfiles/place_api/icons/v1/png_71/lodging-71.png', 'name': 'সাইফুল ভাইয়ের বাসস্থান', 'opening_hours': {'open_now': False}, 'photos': [{'height': 1944, 'html_attributions': ['<a href=\"https://maps.google.com/maps/contrib/103329172744977199913\">SIS media world</a>'], 'photo_reference': 'ATtYBwLZXnJeimeAYAHPayeR91-1w4tzkS8mjZVXxvV1z2viZR9SocZE0uXzIjS44MVBpyONdbXt2A8_SyRf6HOSWpYdB1WZSxH5g7GjX6hbzGFx0jhuG2Si7ooHlik6cvEj-1qWABILzlGQTwvPBWnk4QE8uN9l8jwrkLa06qj7xM532rXX', 'width': 2592}], 'place_id': 'ChIJBc64zc0xVDcRPFXW7-qbDHw', 'plus_code': {'compound_code': 'WP99+P3 Narsingdi, Bangladesh', 'global_code': '7MMGWP99+P3'}, 'reference': 'ChIJBc64zc0xVDcRPFXW7-qbDHw', 'scope': 'GOOGLE', 'types': ['lodging', 'point_of_interest', 'establishment'], 'vicinity': 'Narsingdi'}, {'business_status': 'OPERATIONAL', 'geometry': {'location': {'lat': 23.9192671, 'lng': 90.7176492}, 'viewport': {'northeast': {'lat': 23.9206269302915, 'lng': 90.71890558029149}, 'southwest': {'lat': 23.9179289697085, 'lng': 90.71620761970848}}}, 'icon': 'https://maps.gstatic.com/mapfiles/place_api/icons/v1/png_71/lodging-71.png', 'name': 'Sizon', 'place_id': 'ChIJb-AZt4AxVDcRwCzRwhTsdYY', 'plus_code': {'compound_code': 'WP99+P3 Narsingdi, Bangladesh', 'global_code': '7MMGWP99+P3'}, 'reference': 'ChIJb-AZt4AxVDcRwCzRwhTsdYY', 'scope': 'GOOGLE', 'types': ['lodging', 'point_of_interest', 'establishment'], 'vicinity': 'Narsingdi'}, {'business_status': 'OPERATIONAL', 'geometry': {'location': {'lat': 23.9192671, 'lng': 90.7176492}, 'viewport': {'northeast': {'lat': 23.9206269302915, 'lng': 90.71890558029149}, 'southwest': {'lat': 23.9179289697085, 'lng': 90.71620761970848}}}, 'icon': 'https://maps.gstatic.com/mapfiles/place_api/icons/v1/png_71/lodging-71.png', 'name': \"Rishat's Home\", 'place_id': 'ChIJfVuqAa0xVDcRCt4McHHjv58', 'plus_code': {'compound_code': 'WP99+P3 Narsingdi, Bangladesh', 'global_code': '7MMGWP99+P3'}, 'rating': 3, 'reference': 'ChIJfVuqAa0xVDcRCt4McHHjv58', 'scope': 'GOOGLE', 'types': ['lodging', 'point_of_interest', 'establishment'], 'user_ratings_total': 1, 'vicinity': '540 Gubtoly, Narsingdi'}, {'business_status': 'OPERATIONAL', 'geometry': {'location': {'lat': 23.9191917, 'lng': 90.7177373}, 'viewport': {'northeast': {'lat': 23.9205572302915, 'lng': 90.7189451302915}, 'southwest': {'lat': 23.9178592697085, 'lng': 90.7162471697085}}}, 'icon': 'https://maps.gstatic.com/mapfiles/place_api/icons/v1/png_71/lodging-71.png', 'name': 'Masud Rana (M)', 'place_id': 'ChIJmTctTlwxVDcRyfMWxLc0zoI', 'plus_code': {'compound_code': 'WP99+M3 Narsingdi, Bangladesh', 'global_code': '7MMGWP99+M3'}, 'reference': 'ChIJmTctTlwxVDcRyfMWxLc0zoI', 'scope': 'GOOGLE', 'types': ['lodging', 'point_of_interest', 'establishment'], 'vicinity': 'Unnamed Road, Narsingdi'}, {'business_status': 'OPERATIONAL', 'geometry': {'location': {'lat': 23.9229707, 'lng': 90.7206173}, 'viewport': {'northeast': {'lat': 23.92431323029151, 'lng': 90.72200083029149}, 'southwest': {'lat': 23.9216152697085, 'lng': 90.71930286970849}}}, 'icon': 'https://maps.gstatic.com/mapfiles/place_api/icons/v1/png_71/lodging-71.png', 'name': 'GAZI', 'place_id': 'ChIJ4f7E1xQxVDcRO1o8_h13X64', 'plus_code': {'compound_code': 'WPFC+56 Narsingdi, Bangladesh', 'global_code': '7MMGWPFC+56'}, 'reference': 'ChIJ4f7E1xQxVDcRO1o8_h13X64', 'scope': 'GOOGLE', 'types': ['lodging', 'point_of_interest', 'establishment'], 'vicinity': 'Kandapara, house no 171, Narsingdi'}], 'status': 'OK'}\n",
      "{'html_attributions': [], 'results': [{'business_status': 'OPERATIONAL', 'geometry': {'location': {'lat': 53.96151769999999, 'lng': 105.8829262}, 'viewport': {'northeast': {'lat': 53.9628301802915, 'lng': 105.8841695302915}, 'southwest': {'lat': 53.9601322197085, 'lng': 105.8814715697085}}}, 'icon': 'https://maps.gstatic.com/mapfiles/place_api/icons/v1/png_71/lodging-71.png', 'name': 'The hotel \"Empire\"', 'opening_hours': {'open_now': True}, 'photos': [{'height': 3120, 'html_attributions': ['<a href=\"https://maps.google.com/maps/contrib/115717461570276511720\">Андрей Хохол</a>'], 'photo_reference': 'ATtYBwKWHAQBEjcVF8x3S7AjbAcMhkOwN3NbJnIvx9RBViacv7m_cQLl4YlMQNpM_ExPmcljM_Dj8SQ13voHNW2t-cUrw6Huy-83lreNZzuTZmjdPcAcwm06Nfrc2YGwkg10Bt76EkOCfFLjc5pQ2ifZThzLdYbm0FY4KssRbLgXMhI8Qp5q', 'width': 4160}], 'place_id': 'ChIJ_7iufoXjql0RBMLrbQz_Nws', 'plus_code': {'compound_code': 'XV6M+J5 Krasnoyar, Irkutsk Oblast, Russia', 'global_code': '9P57XV6M+J5'}, 'rating': 3.9, 'reference': 'ChIJ_7iufoXjql0RBMLrbQz_Nws', 'scope': 'GOOGLE', 'types': ['lodging', 'point_of_interest', 'establishment'], 'user_ratings_total': 88, 'vicinity': 'п.Качуг ул.Красноармейская 28-2, Иркутск'}], 'status': 'OK'}\n"
     ]
    }
   ],
   "source": [
    "# 6a. Set parameters to search for hotels with 5000 meters.\n",
    "params = {\n",
    "    \"radius\": 5000,\n",
    "    \"type\": \"lodging\",\n",
    "    \"key\": g_key\n",
    "}\n",
    "\n",
    "# 6b. Iterate through the hotel DataFrame.\n",
    "for idex, city in hotel_df.iterrows():\n",
    "    # 6c. Get latitude and longitude from DataFrame\n",
    "    lt=city['Lat']\n",
    "    lo=city['Lng']\n",
    "    params[\"location\"]=f\"{lt},{lo}\"\n",
    "    # 6d. Set up the base URL for the Google Directions API to get JSON data.\n",
    "    base_url= \"https://maps.googleapis.com/maps/api/place/nearbysearch/json\"\n",
    "    # 6e. Make request and retrieve the JSON data from the search. \n",
    "    resp=requests.get(base_url, params=params).json()\n",
    "    print(resp)\n",
    "    # 6f. Get the first hotel from the results and store the name, if a hotel isn't found skip the city.\n",
    "    try:\n",
    "        hotel_df.loc[idex, 'Hotel Name']= resp['results'][0]['name']\n",
    "    except:\n",
    "        print(\"No hotel found.\")\n",
    "    \n",
    "        "
   ]
  },
  {
   "cell_type": "code",
   "execution_count": 9,
   "metadata": {},
   "outputs": [
    {
     "output_type": "execute_result",
     "data": {
      "text/plain": [
       "             City  Max Temp Weather Description      Lat       Lng  \\\n",
       "0    richards bay     16.14           clear sky -28.7830   32.0377   \n",
       "2       bathsheba     30.34    scattered clouds  13.2167  -59.5167   \n",
       "3          tiznit     19.96     overcast clouds  29.5833   -9.5000   \n",
       "4            fare     27.00     overcast clouds -16.7000 -151.0167   \n",
       "5          albany     26.26     overcast clouds  42.6001  -73.9662   \n",
       "..            ...       ...                 ...      ...       ...   \n",
       "682       rawlins     22.94           clear sky  41.7911 -107.2387   \n",
       "683         seoul     18.69          light rain  37.5683  126.9778   \n",
       "684   tallahassee     32.70     overcast clouds  30.4383  -84.2807   \n",
       "685     narsingdi     29.01       broken clouds  23.9208   90.7181   \n",
       "686        kachug     10.45           clear sky  53.9606  105.8817   \n",
       "\n",
       "                                       Hotel Name  \n",
       "0               BON Hotel Waterfront Richards Bay  \n",
       "2                                  Atlantis Hotel  \n",
       "3                                                  \n",
       "4                   Maitai Lapita Village Huahine  \n",
       "5                                                  \n",
       "..                                            ...  \n",
       "682     Holiday Inn Express Rawlins, an IHG Hotel  \n",
       "683                             Lotte Hotel Seoul  \n",
       "684  Four Points by Sheraton Tallahassee Downtown  \n",
       "685   Abdul Kadir Mollah City College Boys Hostel  \n",
       "686                            The hotel \"Empire\"  \n",
       "\n",
       "[588 rows x 6 columns]"
      ],
      "text/html": "<div>\n<style scoped>\n    .dataframe tbody tr th:only-of-type {\n        vertical-align: middle;\n    }\n\n    .dataframe tbody tr th {\n        vertical-align: top;\n    }\n\n    .dataframe thead th {\n        text-align: right;\n    }\n</style>\n<table border=\"1\" class=\"dataframe\">\n  <thead>\n    <tr style=\"text-align: right;\">\n      <th></th>\n      <th>City</th>\n      <th>Max Temp</th>\n      <th>Weather Description</th>\n      <th>Lat</th>\n      <th>Lng</th>\n      <th>Hotel Name</th>\n    </tr>\n  </thead>\n  <tbody>\n    <tr>\n      <th>0</th>\n      <td>richards bay</td>\n      <td>16.14</td>\n      <td>clear sky</td>\n      <td>-28.7830</td>\n      <td>32.0377</td>\n      <td>BON Hotel Waterfront Richards Bay</td>\n    </tr>\n    <tr>\n      <th>2</th>\n      <td>bathsheba</td>\n      <td>30.34</td>\n      <td>scattered clouds</td>\n      <td>13.2167</td>\n      <td>-59.5167</td>\n      <td>Atlantis Hotel</td>\n    </tr>\n    <tr>\n      <th>3</th>\n      <td>tiznit</td>\n      <td>19.96</td>\n      <td>overcast clouds</td>\n      <td>29.5833</td>\n      <td>-9.5000</td>\n      <td></td>\n    </tr>\n    <tr>\n      <th>4</th>\n      <td>fare</td>\n      <td>27.00</td>\n      <td>overcast clouds</td>\n      <td>-16.7000</td>\n      <td>-151.0167</td>\n      <td>Maitai Lapita Village Huahine</td>\n    </tr>\n    <tr>\n      <th>5</th>\n      <td>albany</td>\n      <td>26.26</td>\n      <td>overcast clouds</td>\n      <td>42.6001</td>\n      <td>-73.9662</td>\n      <td></td>\n    </tr>\n    <tr>\n      <th>...</th>\n      <td>...</td>\n      <td>...</td>\n      <td>...</td>\n      <td>...</td>\n      <td>...</td>\n      <td>...</td>\n    </tr>\n    <tr>\n      <th>682</th>\n      <td>rawlins</td>\n      <td>22.94</td>\n      <td>clear sky</td>\n      <td>41.7911</td>\n      <td>-107.2387</td>\n      <td>Holiday Inn Express Rawlins, an IHG Hotel</td>\n    </tr>\n    <tr>\n      <th>683</th>\n      <td>seoul</td>\n      <td>18.69</td>\n      <td>light rain</td>\n      <td>37.5683</td>\n      <td>126.9778</td>\n      <td>Lotte Hotel Seoul</td>\n    </tr>\n    <tr>\n      <th>684</th>\n      <td>tallahassee</td>\n      <td>32.70</td>\n      <td>overcast clouds</td>\n      <td>30.4383</td>\n      <td>-84.2807</td>\n      <td>Four Points by Sheraton Tallahassee Downtown</td>\n    </tr>\n    <tr>\n      <th>685</th>\n      <td>narsingdi</td>\n      <td>29.01</td>\n      <td>broken clouds</td>\n      <td>23.9208</td>\n      <td>90.7181</td>\n      <td>Abdul Kadir Mollah City College Boys Hostel</td>\n    </tr>\n    <tr>\n      <th>686</th>\n      <td>kachug</td>\n      <td>10.45</td>\n      <td>clear sky</td>\n      <td>53.9606</td>\n      <td>105.8817</td>\n      <td>The hotel \"Empire\"</td>\n    </tr>\n  </tbody>\n</table>\n<p>588 rows × 6 columns</p>\n</div>"
     },
     "metadata": {},
     "execution_count": 9
    }
   ],
   "source": [
    "hotel_df"
   ]
  },
  {
   "cell_type": "code",
   "execution_count": 10,
   "metadata": {},
   "outputs": [
    {
     "output_type": "execute_result",
     "data": {
      "text/plain": [
       "             City  Max Temp Weather Description      Lat       Lng  \\\n",
       "0    richards bay     16.14           clear sky -28.7830   32.0377   \n",
       "2       bathsheba     30.34    scattered clouds  13.2167  -59.5167   \n",
       "4            fare     27.00     overcast clouds -16.7000 -151.0167   \n",
       "6         birjand     29.26          few clouds  32.8663   59.2211   \n",
       "8        hermanus     17.72    scattered clouds -34.4187   19.2345   \n",
       "..            ...       ...                 ...      ...       ...   \n",
       "682       rawlins     22.94           clear sky  41.7911 -107.2387   \n",
       "683         seoul     18.69          light rain  37.5683  126.9778   \n",
       "684   tallahassee     32.70     overcast clouds  30.4383  -84.2807   \n",
       "685     narsingdi     29.01       broken clouds  23.9208   90.7181   \n",
       "686        kachug     10.45           clear sky  53.9606  105.8817   \n",
       "\n",
       "                                       Hotel Name  \n",
       "0               BON Hotel Waterfront Richards Bay  \n",
       "2                                  Atlantis Hotel  \n",
       "4                   Maitai Lapita Village Huahine  \n",
       "6                           Birjand Tourist Hotel  \n",
       "8                      Misty Waves Boutique Hotel  \n",
       "..                                            ...  \n",
       "682     Holiday Inn Express Rawlins, an IHG Hotel  \n",
       "683                             Lotte Hotel Seoul  \n",
       "684  Four Points by Sheraton Tallahassee Downtown  \n",
       "685   Abdul Kadir Mollah City College Boys Hostel  \n",
       "686                            The hotel \"Empire\"  \n",
       "\n",
       "[536 rows x 6 columns]"
      ],
      "text/html": "<div>\n<style scoped>\n    .dataframe tbody tr th:only-of-type {\n        vertical-align: middle;\n    }\n\n    .dataframe tbody tr th {\n        vertical-align: top;\n    }\n\n    .dataframe thead th {\n        text-align: right;\n    }\n</style>\n<table border=\"1\" class=\"dataframe\">\n  <thead>\n    <tr style=\"text-align: right;\">\n      <th></th>\n      <th>City</th>\n      <th>Max Temp</th>\n      <th>Weather Description</th>\n      <th>Lat</th>\n      <th>Lng</th>\n      <th>Hotel Name</th>\n    </tr>\n  </thead>\n  <tbody>\n    <tr>\n      <th>0</th>\n      <td>richards bay</td>\n      <td>16.14</td>\n      <td>clear sky</td>\n      <td>-28.7830</td>\n      <td>32.0377</td>\n      <td>BON Hotel Waterfront Richards Bay</td>\n    </tr>\n    <tr>\n      <th>2</th>\n      <td>bathsheba</td>\n      <td>30.34</td>\n      <td>scattered clouds</td>\n      <td>13.2167</td>\n      <td>-59.5167</td>\n      <td>Atlantis Hotel</td>\n    </tr>\n    <tr>\n      <th>4</th>\n      <td>fare</td>\n      <td>27.00</td>\n      <td>overcast clouds</td>\n      <td>-16.7000</td>\n      <td>-151.0167</td>\n      <td>Maitai Lapita Village Huahine</td>\n    </tr>\n    <tr>\n      <th>6</th>\n      <td>birjand</td>\n      <td>29.26</td>\n      <td>few clouds</td>\n      <td>32.8663</td>\n      <td>59.2211</td>\n      <td>Birjand Tourist Hotel</td>\n    </tr>\n    <tr>\n      <th>8</th>\n      <td>hermanus</td>\n      <td>17.72</td>\n      <td>scattered clouds</td>\n      <td>-34.4187</td>\n      <td>19.2345</td>\n      <td>Misty Waves Boutique Hotel</td>\n    </tr>\n    <tr>\n      <th>...</th>\n      <td>...</td>\n      <td>...</td>\n      <td>...</td>\n      <td>...</td>\n      <td>...</td>\n      <td>...</td>\n    </tr>\n    <tr>\n      <th>682</th>\n      <td>rawlins</td>\n      <td>22.94</td>\n      <td>clear sky</td>\n      <td>41.7911</td>\n      <td>-107.2387</td>\n      <td>Holiday Inn Express Rawlins, an IHG Hotel</td>\n    </tr>\n    <tr>\n      <th>683</th>\n      <td>seoul</td>\n      <td>18.69</td>\n      <td>light rain</td>\n      <td>37.5683</td>\n      <td>126.9778</td>\n      <td>Lotte Hotel Seoul</td>\n    </tr>\n    <tr>\n      <th>684</th>\n      <td>tallahassee</td>\n      <td>32.70</td>\n      <td>overcast clouds</td>\n      <td>30.4383</td>\n      <td>-84.2807</td>\n      <td>Four Points by Sheraton Tallahassee Downtown</td>\n    </tr>\n    <tr>\n      <th>685</th>\n      <td>narsingdi</td>\n      <td>29.01</td>\n      <td>broken clouds</td>\n      <td>23.9208</td>\n      <td>90.7181</td>\n      <td>Abdul Kadir Mollah City College Boys Hostel</td>\n    </tr>\n    <tr>\n      <th>686</th>\n      <td>kachug</td>\n      <td>10.45</td>\n      <td>clear sky</td>\n      <td>53.9606</td>\n      <td>105.8817</td>\n      <td>The hotel \"Empire\"</td>\n    </tr>\n  </tbody>\n</table>\n<p>536 rows × 6 columns</p>\n</div>"
     },
     "metadata": {},
     "execution_count": 10
    }
   ],
   "source": [
    "# 7. Drop the rows where there is no Hotel Name.\n",
    "hotel_df=hotel_df.loc[hotel_df[\"Hotel Name\"]!='']\n",
    "hotel_df"
   ]
  },
  {
   "cell_type": "code",
   "execution_count": 11,
   "metadata": {},
   "outputs": [],
   "source": [
    "# 8a. Create the output File (CSV)\n",
    "output_data_file = \"WeatherPy_vacation.csv\"\n",
    "# 8b. Export the City_Data into a csv\n",
    "hotel_df.to_csv(output_data_file, index_label=\"City_ID\")"
   ]
  },
  {
   "cell_type": "code",
   "execution_count": 12,
   "metadata": {},
   "outputs": [],
   "source": [
    "# 9. Using the template add city name, the country code, the weather description and maximum temperature for the city.\n",
    "info_box_template = \"\"\"\n",
    "<dl>\n",
    "<dt>Hotel Name</dt><dd>{Hotel Name}</dd>\n",
    "<dt>City</dt><dd>{City}</dd>\n",
    "<dt>Weather Description</dt><dd>{Weather Description} and {Max Temp} °F</dd>\n",
    "</dl>\n",
    "\"\"\"\n",
    "\n",
    "\n",
    "# 10a. Get the data from each row and add it to the formatting template and store the data in a list.\n",
    "hotel_info = [info_box_template.format(**row) for index, row in hotel_df.iterrows()]\n",
    "\n",
    "# 10b. Get the latitude and longitude from each row and store in a new DataFrame.\n",
    "locations = hotel_df[[\"Lat\", \"Lng\"]]"
   ]
  },
  {
   "cell_type": "code",
   "execution_count": 13,
   "metadata": {},
   "outputs": [
    {
     "output_type": "display_data",
     "data": {
      "text/plain": "Figure(layout=FigureLayout(height='420px'))",
      "application/vnd.jupyter.widget-view+json": {
       "version_major": 2,
       "version_minor": 0,
       "model_id": "4ea5b6698af34ddf9268f112f85c06f2"
      }
     },
     "metadata": {}
    }
   ],
   "source": [
    "# 11a. Add a marker layer for each city to the map. \n",
    "m_layer=gmaps.marker_layer(locations,info_box_content= hotel_info)\n",
    "fig=gmaps.figure()\n",
    "fig.add_layer(m_layer)\n",
    "# 11b. Display the figure\n",
    "fig"
   ]
  },
  {
   "cell_type": "code",
   "execution_count": null,
   "metadata": {},
   "outputs": [],
   "source": []
  },
  {
   "cell_type": "code",
   "execution_count": null,
   "metadata": {},
   "outputs": [],
   "source": []
  }
 ],
 "metadata": {
  "kernelspec": {
   "name": "pythondata",
   "display_name": "Python 3.7.9 64-bit ('PythonData': conda)"
  },
  "language_info": {
   "codemirror_mode": {
    "name": "ipython",
    "version": 3
   },
   "file_extension": ".py",
   "mimetype": "text/x-python",
   "name": "python",
   "nbconvert_exporter": "python",
   "pygments_lexer": "ipython3",
   "version": "3.7.9"
  },
  "latex_envs": {
   "LaTeX_envs_menu_present": true,
   "autoclose": false,
   "autocomplete": true,
   "bibliofile": "biblio.bib",
   "cite_by": "apalike",
   "current_citInitial": 1,
   "eqLabelWithNumbers": true,
   "eqNumInitial": 1,
   "hotkeys": {
    "equation": "Ctrl-E",
    "itemize": "Ctrl-I"
   },
   "labels_anchors": false,
   "latex_user_defs": false,
   "report_style_numbering": false,
   "user_envs_cfg": false
  }
 },
 "nbformat": 4,
 "nbformat_minor": 2
}